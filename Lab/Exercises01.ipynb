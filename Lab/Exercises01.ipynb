{
 "metadata": {
  "name": "",
  "signature": "sha256:4b38ac976c09baa0072013d6dca2e2fe32a45b460dead3e30d2e2eecc5ec2115"
 },
 "nbformat": 3,
 "nbformat_minor": 0,
 "worksheets": [
  {
   "cells": [
    {
     "cell_type": "code",
     "collapsed": false,
     "input": [
      "from IPython.display import Image"
     ],
     "language": "python",
     "metadata": {},
     "outputs": [],
     "prompt_number": 2
    },
    {
     "cell_type": "markdown",
     "metadata": {},
     "source": [
      "Computer lab\n",
      "----\n",
      "\n",
      "These exercises are designed to give you some practice coding in Python and proivde familiarity with the language syntax."
     ]
    },
    {
     "cell_type": "markdown",
     "metadata": {},
     "source": [
      "**Exercise 1 [10 pts]**. Write code to solve the [Project Euler puzzle 1](https://projecteuler.net/problems)"
     ]
    },
    {
     "cell_type": "code",
     "collapsed": false,
     "input": [
      "# Your code here\n",
      "a = 0\n",
      "for i in range(1, 1000):\n",
      "    if i%15 == 0 or i%3 == 0 or i%5 == 0:\n",
      "        a += i\n",
      "print(a)"
     ],
     "language": "python",
     "metadata": {},
     "outputs": [
      {
       "output_type": "stream",
       "stream": "stdout",
       "text": [
        "234168\n"
       ]
      }
     ],
     "prompt_number": 6
    },
    {
     "cell_type": "markdown",
     "metadata": {},
     "source": [
      "**Exericse 2 [10 pts]**. Wikipedia gives the sample correlation coefficient formula as shown below. Write functions to calculate the sample mean, the sample standard deviation and the sample correlation coefficient. Calculate the sample correlation coefficent for the following lists of numbers:\n",
      "\n",
      "```python\n",
      "x = [10.0, 8.0, 13.0, 9.0, 11.0, 14.0, 6.0, 4.0, 12.0, 7.0, 5.0]\n",
      "y = [8.04, 6.95, 7.58, 8.81, 8.33, 9.96, 7.24, 4.26, 10.84, 4.82, 5.68]\n",
      "```\n",
      "\n",
      "Do NOT use `numpy`  functions - the idea is to code the functions yourself! The square root of $x$ can be calculated as ```x**0.5```."
     ]
    },
    {
     "cell_type": "code",
     "collapsed": false,
     "input": [
      "Image(url=\"http://upload.wikimedia.org/math/0/4/e/04e3ee493ddb1f01e03d8bf024fbd0a5.png\")"
     ],
     "language": "python",
     "metadata": {},
     "outputs": [
      {
       "html": [
        "<img src=\"http://upload.wikimedia.org/math/0/4/e/04e3ee493ddb1f01e03d8bf024fbd0a5.png\"/>"
       ],
       "metadata": {},
       "output_type": "pyout",
       "prompt_number": 4,
       "text": [
        "<IPython.core.display.Image at 0x7f9126a78550>"
       ]
      }
     ],
     "prompt_number": 4
    },
    {
     "cell_type": "code",
     "collapsed": false,
     "input": [
      "Image(url=\"http://upload.wikimedia.org/math/7/0/d/70df5220933ae8298cd5ef1c719360bf.png\")"
     ],
     "language": "python",
     "metadata": {},
     "outputs": [
      {
       "html": [
        "<img src=\"http://upload.wikimedia.org/math/7/0/d/70df5220933ae8298cd5ef1c719360bf.png\"/>"
       ],
       "metadata": {},
       "output_type": "pyout",
       "prompt_number": 5,
       "text": [
        "<IPython.core.display.Image at 0x7f9126a78590>"
       ]
      }
     ],
     "prompt_number": 5
    },
    {
     "cell_type": "code",
     "collapsed": false,
     "input": [
      "# Your code here\n",
      "\n",
      "def mean(x):\n",
      "    \"\"\"Calcualtes the mean of given sample\"\"\"\n",
      "    return (sum(x)/len(x))\n",
      "\n",
      "def stdev(x):\n",
      "    \"\"\"Calculate standard deviation of given sample\"\"\"\n",
      "    sqDiff = 0\n",
      "    for xi in x:\n",
      "        sqDiff += (xi-mean(x))**2\n",
      "    return (sqDiff/(len(x)-1))**0.5\n",
      "    \n",
      "def corrcoef(x,y):\n",
      "    \"\"\"Calculate correlation coeffieient between two lists\"\"\"\n",
      "    sum = 0\n",
      "    for i in range(len(x)):\n",
      "        sum += (x[i] - mean(x))/stdev(x)*(y[i] - mean(y))/stdev(y)\n",
      "    \n",
      "    return sum/(len(x)-1)\n",
      "\n",
      "\n",
      "x = [10.0, 8.0, 13.0, 9.0, 11.0, 14.0, 6.0, 4.0, 12.0, 7.0, 5.0]\n",
      "y = [8.04, 6.95, 7.58, 8.81, 8.33, 9.96, 7.24, 4.26, 10.84, 4.82, 5.68]\n",
      "print corrcoef(x,y)"
     ],
     "language": "python",
     "metadata": {},
     "outputs": [
      {
       "output_type": "stream",
       "stream": "stdout",
       "text": [
        "0.816420516345\n"
       ]
      }
     ],
     "prompt_number": 8
    },
    {
     "cell_type": "markdown",
     "metadata": {},
     "source": [
      "**Exercise 3** [10 pts]. Write a function to calculate hailstone numbers.\n",
      "\n",
      "Start with any positive integer (an initial seed) and obtain a sequence of numbers by following these rules.\n",
      "\n",
      "1. Base case: If the number is 1, stop.\n",
      "2. Recursive case: If the current number is even, divide it by two; else if it is odd, multiply it by three and add one. \n",
      "\n",
      "The seqeunce of numbers obtained are known as *hailstone numbers* - although it is not proven that all sequences will eventually terminate with 1 (Collatz conjecture), no counter-example has yet been found. \n",
      "\n",
      "For example, starting with 7, we get the sequence 7, 22, 11, 34, 17, 52, 26, 13, 40, 20, 10, 5, 16, 8, 4, 2, 1.\n",
      "\n",
      "A recursive function to find the sequence of hailstone numbers is given below. Write a *non-recursive* version of the function that gives the same result. Using your function, what is the length of the sequeence obtained when we start with 23?\n",
      "\n",
      "```python\n",
      "def hailstone(n, acc=None):\n",
      "    \"\"\"Given a positive integer n, return the series of hailstone numbers.\"\"\"\n",
      "    if acc is None:\n",
      "        acc = []\n",
      "    acc.append(n)\n",
      "    if n == 1:\n",
      "        return acc\n",
      "    else:\n",
      "        if n%2 == 0:\n",
      "            return hailstone(n/2, acc)\n",
      "        else:\n",
      "            return hailstone(n*3 + 1, acc)\n",
      "```"
     ]
    },
    {
     "cell_type": "code",
     "collapsed": false,
     "input": [
      "# Your code here\n",
      "def hailstone(n):\n",
      "    acc =[n]\n",
      "    while n != 1:\n",
      "        if n%2 == 0:\n",
      "            n = n/2\n",
      "            acc.append(n)\n",
      "        else:\n",
      "            n = n*3+1\n",
      "            acc.append(n)\n",
      "    return acc\n",
      "\n",
      "print(hailstone(23))\n",
      "print(len(hailstone(23)))\n"
     ],
     "language": "python",
     "metadata": {},
     "outputs": [
      {
       "output_type": "stream",
       "stream": "stdout",
       "text": [
        "[23, 70, 35, 106, 53, 160, 80, 40, 20, 10, 5, 16, 8, 4, 2, 1]\n",
        "16\n"
       ]
      }
     ],
     "prompt_number": 10
    },
    {
     "cell_type": "markdown",
     "metadata": {},
     "source": [
      "**Exercise 4 [20 pts]**. A Caesar cipher replaces each in a string with the letter $k$ modulo 26 positions down. For example, with $k=3$, 'a' would become 'd', 'b' would become 'e' and so on. The Caesar cipher is very easy to crack, since the relative letter frequencies are preserved - that is, 'e' is the most commonly used English letter, so the most frequent letter in the cipher is likely to be the code for 'e'. We can download a large corpus of English text (e.g. a few books from Project Gutenberg), and estimate the individual letter frequencies. Using for example, a multinomial model where each letter is one of 26 possibiilites with frequencies given by the the previous estimates, and assuming that each letter is independent, we can simply go through all 26 possible values of $k$ and choose the model with the highest likelihood. Or just use $\\chi^2$ statistic to compare observed and expected frequencies.\n",
      "\n",
      "Here is an extended exercise to write a Caesar encoder and code to crack the cipher. \n",
      "\n",
      "**Writing the encoder/decoder**:\n",
      "  - Convert a sentence to lowercase\n",
      "  - Write a function let2int to convert a lowercase letter to a number from $0$ to $25$\n",
      "   - Hint: look up ord() function\n",
      "  - Write the reverse function int2let to convert a number to a lowercase letter\n",
      "   - Hint: look up chr() function\n",
      "  - Write a functiton to encode a sentence with shift $k$\n",
      "   - Hint: Use list comprehension with [ternary operator](https://docs.python.org/3.3/faq/programming.html#is-there-an-equivalent-of-c-s-ternary-operator) to check for a lowercase letter\n",
      "  - Write a function to decode a sentence with shift $k$\n",
      "   - Hint: Use the encode function\n",
      "  - Confirm that sentence = decode(encode(sentence))\n",
      "\n",
      "**More hints for encoding/decoding**:\n",
      "\n",
      "There are two slightly tricky aspects to encoding/decoding. First is that we want to convert any character into an integer in $[0, 26)$. Because letters are ordered ('b' comes after 'a'), this can be done by subtracting `ord('a')` for the lowercase letters. After adding $k$, we need to take the number modulo $26$ since the Caesar cipher \"wraps around\". Second is that this will only work for lowercase letters - so we need to pass along any characters that are not in 'a-z' unchanged.\n",
      "    \n",
      "**Writing the cracker**:\n",
      " - Write a function to download a book from Project Gutenberg\n",
      "   - Hint: use\n",
      "     ```python\n",
      "        text = urllib2.urlopen('http://www.gutenberg.org/ebooks/1342.txt.utf-8').read()\n",
      "        ```\n",
      " - The book is now in the Github repository as book.txt.  Instead of using the above code, just use\n",
      "    ```python\n",
      "    text = open('book.txt').read()\n",
      "    ```\n",
      " - Write a fucntion to estimate letter frequencies in text\n",
      "   - Hint: recall various ways to count letters in a string from Lecture 1\n",
      " - Write a function to calculate the $\\chi^2$ statistic given observed and expected frequencies\n",
      "   - Hint: $\\chi^2 = \\sum_{i=1}{k} \\frac{(\\text{Observed} - \\text{Expected})^2}{\\text{Expected}}$\n",
      " - Write a cracker to decode encrypted text by choosing the shift $k$ with the smallest $\\chi^2$ score\n",
      "   - Hint: xs.index(min(xs)) gives location of minimum value in the list xs.\n",
      " - Any reasoanable Englsh sentence should work - just maek one up or copy and paste from somewhere."
     ]
    },
    {
     "cell_type": "code",
     "collapsed": false,
     "input": [
      "A = \"WASHINGTON - The younger of the two brothers who killed 12 people in Paris last week most likely used his older brother's passport in 2011 to travel to Yemen, where he received training and $20,000 from Al Qaeda's affiliate there, presumably to finance attacks when he returned home to France. American counterterrorism officials said on Wednesday that they now believed that Cherif Kouachi, the younger brother, was the aggressor in the attacks - not Said Kouachi, the older brother, as they first thought - but that Said may also have traveled to Yemen, as American and French authorities have said.\"\n",
      "A = A.lower()\n",
      "def let2int(letter):\n",
      "    return ord(letter) - ord('a')\n",
      "    \n",
      "def int2let(number):\n",
      "    return chr(number + ord('a'))\n",
      "\n",
      "def encode(string, k):\n",
      "    \"\"\"Encode the string by shifting right by k for lowercase letters\"\"\"\n",
      "    number = [let2int(x) for x in string]\n",
      "    encoded = [(x+k)%26 if 0 <= x <= 25 else x for x in number]\n",
      "    letter = [int2let(x) for x in encoded]\n",
      "    return \"\".join(letter)\n",
      "\n",
      "def decode(string, k):\n",
      "    \"\"\"Decode the string by shifting left by k for lowercase letters\"\"\"\n",
      "    number = [let2int(x) for x in string]\n",
      "    encoded = [(x-k)%26 if 0 <= x <= 25 else x for x in number]\n",
      "    letter = [int2let(x) for x in encoded]\n",
      "    return \"\".join(letter)\n",
      "\n",
      "#### Cracker code\n",
      "\n",
      "text = open('book.txt').read().lower()\n",
      "import collections as coll\n",
      "\n",
      "def freq(text):\n",
      "    \"\"\"Calculate the frequency of occurence for each character. It returns the frequency for the lower case characters only\n",
      "    Input is any text whose frequency is to be found\"\"\"\n",
      "    count = coll.Counter(text)\n",
      "    countExp = {x: count[x] for x in count if 0 <= let2int(x) <= 25}\n",
      "    return {x: countExp[x]/float(len(text)) for x in countExp}\n",
      "\n",
      "def CHISQ(observed, expected):\n",
      "    \"\"\"Decode the encrypted code by calculating the X^2 statistic.\n",
      "    Inputs:\n",
      "        observed: character frequencies in the encoded text\n",
      "        expected: character frequencies in the sample text without any shift\n",
      "    Returns:\n",
      "        Decoded text\"\"\"\n",
      "    \n",
      "    chiSq = []\n",
      "    observed = freq(coded)\n",
      "    for k in range(26):\n",
      "        chisq = 0\n",
      "        expectedk = {x: expected[decode(x,k)] for x in expected} #calculate expected frequency if the text was encoded with k-\n",
      "        for j in observed:\n",
      "            chisq += (observed[j] - expectedk[j])**2/expectedk[j]\n",
      "        chiSq.append(chisq)\n",
      "\n",
      "    return chiSq\n",
      "\n",
      "\n",
      "coded = encode(A, 10)\n",
      "observed = freq(coded)\n",
      "expected = freq(text)\n",
      "chiSq = CHISQ(observed, expected)\n",
      "decode(coded,chiSq.index(min(chiSq)))"
     ],
     "language": "python",
     "metadata": {},
     "outputs": [
      {
       "metadata": {},
       "output_type": "pyout",
       "prompt_number": 2,
       "text": [
        "\"washington - the younger of the two brothers who killed 12 people in paris last week most likely used his older brother's passport in 2011 to travel to yemen, where he received training and $20,000 from al qaeda's affiliate there, presumably to finance attacks when he returned home to france. american counterterrorism officials said on wednesday that they now believed that cherif kouachi, the younger brother, was the aggressor in the attacks - not said kouachi, the older brother, as they first thought - but that said may also have traveled to yemen, as american and french authorities have said.\""
       ]
      }
     ],
     "prompt_number": 2
    },
    {
     "cell_type": "code",
     "collapsed": false,
     "input": [
      "coded"
     ],
     "language": "python",
     "metadata": {},
     "outputs": [
      {
       "metadata": {},
       "output_type": "pyout",
       "prompt_number": 13,
       "text": [
        "\"lphwxcvidc - iwt ndjcvtg du iwt ild qgdiwtgh lwd zxaats 12 etdeat xc epgxh aphi lttz bdhi axztan jhts wxh dastg qgdiwtg'h ephhedgi xc 2011 id igpkta id ntbtc, lwtgt wt gtrtxkts igpxcxcv pcs $20,000 ugdb pa fptsp'h puuxaxpit iwtgt, egthjbpqan id uxcpcrt piiprzh lwtc wt gtijgcts wdbt id ugpcrt. pbtgxrpc rdjcitgitggdgxhb duuxrxpah hpxs dc ltscthspn iwpi iwtn cdl qtaxtkts iwpi rwtgxu zdjprwx, iwt ndjcvtg qgdiwtg, lph iwt pvvgthhdg xc iwt piiprzh - cdi hpxs zdjprwx, iwt dastg qgdiwtg, ph iwtn uxghi iwdjvwi - qji iwpi hpxs bpn pahd wpkt igpktats id ntbtc, ph pbtgxrpc pcs ugtcrw pjiwdgxixth wpkt hpxs.\""
       ]
      }
     ],
     "prompt_number": 13
    },
    {
     "cell_type": "code",
     "collapsed": false,
     "input": [
      "A"
     ],
     "language": "python",
     "metadata": {},
     "outputs": [
      {
       "metadata": {},
       "output_type": "pyout",
       "prompt_number": 2,
       "text": [
        "\"washington - the younger of the two brothers who killed 12 people in paris last week most likely used his older brother's passport in 2011 to travel to yemen, where he received training and $20,000 from al qaeda's affiliate there, presumably to finance attacks when he returned home to france. american counterterrorism officials said on wednesday that they now believed that cherif kouachi, the younger brother, was the aggressor in the attacks - not said kouachi, the older brother, as they first thought - but that said may also have traveled to yemen, as american and french authorities have said.\""
       ]
      }
     ],
     "prompt_number": 2
    },
    {
     "cell_type": "code",
     "collapsed": false,
     "input": [],
     "language": "python",
     "metadata": {},
     "outputs": []
    }
   ],
   "metadata": {}
  }
 ]
}