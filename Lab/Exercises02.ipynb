{
 "metadata": {
  "name": "",
  "signature": "sha256:26b585fb9ce918c765d415994b281bd811ac586b444a17a47c097c16e9b72c03"
 },
 "nbformat": 3,
 "nbformat_minor": 0,
 "worksheets": [
  {
   "cells": [
    {
     "cell_type": "markdown",
     "metadata": {},
     "source": [
      "Computer lab 02\n",
      "----\n",
      "\n",
      "These exercises provide more practice in data manipulation and working with numpy arrays."
     ]
    },
    {
     "cell_type": "code",
     "collapsed": false,
     "input": [
      "import os\n",
      "import sys\n",
      "import glob\n",
      "import matplotlib.pyplot as plt\n",
      "import numpy as np\n",
      "import pandas as pd\n",
      "%matplotlib inline\n",
      "%precision 4\n",
      "plt.style.use('ggplot')"
     ],
     "language": "python",
     "metadata": {},
     "outputs": [],
     "prompt_number": 1
    },
    {
     "cell_type": "markdown",
     "metadata": {},
     "source": [
      "**Exercise 1 [10 pts]**. Write a 12 by 12 times table chart without explicit looping (i.e. no for, while or comprehensions). Your code should generate this output:\n",
      "\n",
      "```python\n",
      "[[  1   2   3   4   5   6   7   8   9  10  11  12]\n",
      " [  2   4   6   8  10  12  14  16  18  20  22  24]\n",
      " [  3   6   9  12  15  18  21  24  27  30  33  36]\n",
      " [  4   8  12  16  20  24  28  32  36  40  44  48]\n",
      " [  5  10  15  20  25  30  35  40  45  50  55  60]\n",
      " [  6  12  18  24  30  36  42  48  54  60  66  72]\n",
      " [  7  14  21  28  35  42  49  56  63  70  77  84]\n",
      " [  8  16  24  32  40  48  56  64  72  80  88  96]\n",
      " [  9  18  27  36  45  54  63  72  81  90  99 108]\n",
      " [ 10  20  30  40  50  60  70  80  90 100 110 120]\n",
      " [ 11  22  33  44  55  66  77  88  99 110 121 132]\n",
      " [ 12  24  36  48  60  72  84  96 108 120 132 144]]\n",
      "```"
     ]
    },
    {
     "cell_type": "code",
     "collapsed": false,
     "input": [
      "# Your code here\n",
      "#print np.fromfunction(lambda i, j: (i+1)*(j+1), (12,12))\n",
      "\n",
      "list = np.arange(1, 13)\n",
      "print list[:,None] * list[None,:]"
     ],
     "language": "python",
     "metadata": {},
     "outputs": [
      {
       "output_type": "stream",
       "stream": "stdout",
       "text": [
        "[[  1   2   3   4   5   6   7   8   9  10  11  12]\n",
        " [  2   4   6   8  10  12  14  16  18  20  22  24]\n",
        " [  3   6   9  12  15  18  21  24  27  30  33  36]\n",
        " [  4   8  12  16  20  24  28  32  36  40  44  48]\n",
        " [  5  10  15  20  25  30  35  40  45  50  55  60]\n",
        " [  6  12  18  24  30  36  42  48  54  60  66  72]\n",
        " [  7  14  21  28  35  42  49  56  63  70  77  84]\n",
        " [  8  16  24  32  40  48  56  64  72  80  88  96]\n",
        " [  9  18  27  36  45  54  63  72  81  90  99 108]\n",
        " [ 10  20  30  40  50  60  70  80  90 100 110 120]\n",
        " [ 11  22  33  44  55  66  77  88  99 110 121 132]\n",
        " [ 12  24  36  48  60  72  84  96 108 120 132 144]]\n"
       ]
      }
     ],
     "prompt_number": 2
    },
    {
     "cell_type": "markdown",
     "metadata": {},
     "source": [
      "**Exercise 2 [10 pts]**. Create a new matrix that normalizes the given matrix so that all *columns* sum to 1.0 without using any loops. Create another matrix so that all *rows* sum to 1.0. In other words, if the 3 matrices were `xs` (given), `ys` (column normalized) and `zs` (row normalized), we would have \n",
      "\n",
      "`ys.sum(axis=0)` = `[ 1.,  1.,  1.,  1.,  1.,  1.]` \n",
      "\n",
      "and \n",
      "\n",
      "`zs.sum(axis=1)` = `[ 1.,  1.,  1.,  1.]`\n",
      "\n",
      "Start by creating the following matrix `xs`\n",
      "```python\n",
      "[[  1.   2.   3.   4.   5.   6.]\n",
      " [  7.   8.   9.  10.  11.  12.]\n",
      " [ 13.  14.  15.  16.  17.  18.]\n",
      " [ 19.  20.  21.  22.  23.  24.]]\n",
      "```"
     ]
    },
    {
     "cell_type": "code",
     "collapsed": false,
     "input": [
      "# Your code here\n",
      "\n",
      "xs = np.fromfunction(lambda i, j: i*6+(j+1), (4,6))\n",
      "print 'xs: \\n',xs, '\\n'\n",
      "\n",
      "column_sum = xs.sum(axis=0)\n",
      "row_sum = xs.sum(axis=1)\n",
      "ys = xs/column_sum\n",
      "print 'ys: \\n',ys\n",
      "print 'ys.sum(axis=0)=', ys.sum(axis=0), '\\n'\n",
      "\n",
      "zs = xs/row_sum[:,None]\n",
      "print 'zs: \\n',zs\n",
      "print 'zs.sum(axis=1)=', zs.sum(axis=1), '\\n'"
     ],
     "language": "python",
     "metadata": {},
     "outputs": [
      {
       "output_type": "stream",
       "stream": "stdout",
       "text": [
        "xs: \n",
        "[[  1.   2.   3.   4.   5.   6.]\n",
        " [  7.   8.   9.  10.  11.  12.]\n",
        " [ 13.  14.  15.  16.  17.  18.]\n",
        " [ 19.  20.  21.  22.  23.  24.]] \n",
        "\n",
        "ys: \n",
        "[[ 0.025   0.0455  0.0625  0.0769  0.0893  0.1   ]\n",
        " [ 0.175   0.1818  0.1875  0.1923  0.1964  0.2   ]\n",
        " [ 0.325   0.3182  0.3125  0.3077  0.3036  0.3   ]\n",
        " [ 0.475   0.4545  0.4375  0.4231  0.4107  0.4   ]]\n",
        "ys.sum(axis=0)= [ 1.  1.  1.  1.  1.  1.] \n",
        "\n",
        "zs: \n",
        "[[ 0.0476  0.0952  0.1429  0.1905  0.2381  0.2857]\n",
        " [ 0.1228  0.1404  0.1579  0.1754  0.193   0.2105]\n",
        " [ 0.1398  0.1505  0.1613  0.172   0.1828  0.1935]\n",
        " [ 0.1473  0.155   0.1628  0.1705  0.1783  0.186 ]]\n",
        "zs.sum(axis=1)= [ 1.  1.  1.  1.] \n",
        "\n"
       ]
      }
     ],
     "prompt_number": 13
    },
    {
     "cell_type": "markdown",
     "metadata": {},
     "source": [
      "**Exercise 3 [10 pts]**. In this exercise, we will practice using Pandas dataframes to explore and summarize a data set `heart`.\n",
      "\n",
      "This data contains the survival time after receiving a heart transplant, the age of the patient and whether or not the survival time was censored.\n",
      "\n",
      "- Number of Observations - 69\n",
      "- Number of Variables - 3\n",
      "\n",
      "Variable name definitions::\n",
      "\n",
      "- survival - Days after surgery until death\n",
      "- censors - indicates if an observation is censored. 1 is uncensored\n",
      "- age - age at the time of surgery\n",
      "\n",
      "Answer the following questions with respect to the `heart` data set:\n",
      "\n",
      "- How many patients were censored?\n",
      "- What is the correlation coefficient between age and survival for uncensored patients?\n",
      "- What is the average age for censored and uncensored patients?\n",
      "- What is the average survival time for censored and uncensored patients under the age of 45?\n",
      "- What is the survival time of the youngest and oldest uncensored patient?"
     ]
    },
    {
     "cell_type": "code",
     "collapsed": false,
     "input": [
      "import statsmodels.api as sm\n",
      "heart = sm.datasets.heart.load_pandas().data\n",
      "\n",
      "heart.head(n=6)"
     ],
     "language": "python",
     "metadata": {},
     "outputs": [
      {
       "html": [
        "<div style=\"max-height:1000px;max-width:1500px;overflow:auto;\">\n",
        "<table border=\"1\" class=\"dataframe\">\n",
        "  <thead>\n",
        "    <tr style=\"text-align: right;\">\n",
        "      <th></th>\n",
        "      <th>survival</th>\n",
        "      <th>censors</th>\n",
        "      <th>age</th>\n",
        "    </tr>\n",
        "  </thead>\n",
        "  <tbody>\n",
        "    <tr>\n",
        "      <th>0</th>\n",
        "      <td>  15</td>\n",
        "      <td> 1</td>\n",
        "      <td> 54.3</td>\n",
        "    </tr>\n",
        "    <tr>\n",
        "      <th>1</th>\n",
        "      <td>   3</td>\n",
        "      <td> 1</td>\n",
        "      <td> 40.4</td>\n",
        "    </tr>\n",
        "    <tr>\n",
        "      <th>2</th>\n",
        "      <td> 624</td>\n",
        "      <td> 1</td>\n",
        "      <td> 51.0</td>\n",
        "    </tr>\n",
        "    <tr>\n",
        "      <th>3</th>\n",
        "      <td>  46</td>\n",
        "      <td> 1</td>\n",
        "      <td> 42.5</td>\n",
        "    </tr>\n",
        "    <tr>\n",
        "      <th>4</th>\n",
        "      <td> 127</td>\n",
        "      <td> 1</td>\n",
        "      <td> 48.0</td>\n",
        "    </tr>\n",
        "    <tr>\n",
        "      <th>5</th>\n",
        "      <td>  64</td>\n",
        "      <td> 1</td>\n",
        "      <td> 54.6</td>\n",
        "    </tr>\n",
        "  </tbody>\n",
        "</table>\n",
        "</div>"
       ],
       "metadata": {},
       "output_type": "pyout",
       "prompt_number": 4,
       "text": [
        "   survival  censors   age\n",
        "0        15        1  54.3\n",
        "1         3        1  40.4\n",
        "2       624        1  51.0\n",
        "3        46        1  42.5\n",
        "4       127        1  48.0\n",
        "5        64        1  54.6"
       ]
      }
     ],
     "prompt_number": 4
    },
    {
     "cell_type": "code",
     "collapsed": false,
     "input": [
      "import statsmodels.api as sm\n",
      "heart = sm.datasets.heart.load_pandas().data\n",
      "\n",
      "# Your code here\n",
      "print 'Total censored patients=',len(heart[heart.censors == 0]), '\\n'\n",
      "#uncensored = heart[heart.censors == 1]\n",
      "print 'Corr Coef between age and survival for uncensored=', heart[heart.censors==1].corr().age.survival, '\\n'\n",
      "#print uncensored['age'].corr(uncensored['survival'])\n",
      "\n",
      "grouped = heart.groupby('censors')\n",
      "print 'Average age: \\n',grouped.mean().age, '\\n'\n",
      "\n",
      "below45 = heart[heart.age<45]\n",
      "grouped1 = below45.groupby('censors') \n",
      "print 'Average survival time, age below 45: \\n', grouped1.mean().survival, '\\n'\n",
      "\n",
      "uncensored = heart[heart.censors == 1]\n",
      "suvtime = uncensored[(uncensored.age == min(uncensored.age)) | (uncensored.age == max(uncensored.age))]\n",
      "print 'Survival time for oldest uncensored patient=',suvtime.iat[0,0]\n",
      "print 'Survival time for youngest uncensored patient=',suvtime.iat[1,0]\n",
      "\n",
      "#uncensored.index(min(uncensored.age))"
     ],
     "language": "python",
     "metadata": {},
     "outputs": [
      {
       "output_type": "stream",
       "stream": "stdout",
       "text": [
        "Total censored patients= 24 \n",
        "\n",
        "Corr Coef between age and survival for uncensored= 0.00325649928321 \n",
        "\n",
        "Average age: \n",
        "censors\n",
        "0          41.729167\n",
        "1          48.484444\n",
        "Name: age, dtype: float64 \n",
        "\n",
        "Average survival time, age below 45: \n",
        "censors\n",
        "0          712.818182\n",
        "1          169.909091\n",
        "Name: survival, dtype: float64 \n",
        "\n",
        "Survival time for oldest uncensored patient= 60.0\n",
        "Survival time for youngest uncensored patient= 228.0\n"
       ]
      }
     ],
     "prompt_number": 5
    },
    {
     "cell_type": "markdown",
     "metadata": {},
     "source": [
      "**Exercise 4 [20 pts]**. Normalize the given matrix $M$ so that all rows sum to 1.0 (as in Exercise 2). This can then be considered as a transition matrix $P$ for a Markov chain. Find the stationary distribution of this matrix in the following ways using `numpy` and `numpy.linalg` (or `scipy.linalg`):\n",
      "\n",
      "- By repeated matrix multiplication of a random probabilty vector $v$ (a row vector normalized to sum to 1.0) with $P$ using matrix multiplication with `np.dot`.\n",
      "- By raising the matrix $P$ to some large power unitl it doesn't change with higher powers (see `np.linalg.matrix_power`) and then calculating $vP$\n",
      "- From the equation for stationarity $wP = w$, we can see that $w$ must be a left eigenvector of $P$ with eigenvalue $1$ (Note: np.linalg.eig returns the right eigenvectors, but the left eighenvector of a matrix is the right eigenvector of the transposed matrix). Use this to find $w$ using `np.linalg.eig`.\n",
      "- Suppose $w = (w_1, w_2, w_3)$. Then from $wP = w$, we have:\n",
      "\\begin{align}\n",
      "w_1 P_{11} + w_2 P_{21} + w_3 P_{31} &= w_1 \\\\\n",
      "w_1 P_{12} + w_2 P_{22} + w_3 P_{32} &= w_2 \\\\\n",
      "w_1 P_{13} + w_2 P_{23} + w_3 P_{331} &= w_3 \\\\\n",
      "\\end{align}\n",
      "This is a singular system, but we also know that $w_1 + w_2 + w_3 = 1$. Use these facts to set up a linear system of equations that can be solved with `np.linalg.solve` to find $w$.\n",
      "\n",
      "Given matrix $M$\n",
      "```python\n",
      "      [[7, 8, 8],\n",
      "       [1, 3, 8],\n",
      "       [9, 2, 1]]\n",
      "```"
     ]
    },
    {
     "cell_type": "code",
     "collapsed": false,
     "input": [
      "# Your code here\n",
      "\n",
      "M = np.array([7,8,8,1,3,8,9,2,1]).reshape(3,3)\n",
      "row_sum = M.sum(axis=1)\n",
      "P = M/row_sum[:,None].astype('float')\n",
      "\n",
      "### Iterative Multiplication\n",
      "v = P[1,:]\n",
      "v1 =[0,0,0]\n",
      "while (np.linalg.norm(v1-v) > 0):\n",
      "    v1 = v\n",
      "    v = np.dot(v,P)\n",
      "print \"Stationary distribution from first method:\", v\n",
      "\n",
      "\n",
      "### Raising the transition matrix to power n till it converges\n",
      "Pn = P\n",
      "Pn_1 = np.ones((3,3))\n",
      "n=1\n",
      "while (np.linalg.norm(Pn-Pn_1) > 0) :\n",
      "#while (np.linalg.norm(Pn-Pn_1) > p.zeros((3,3))).all() :\n",
      "    n += 1\n",
      "    Pn_1 = Pn\n",
      "    Pn = np.linalg.matrix_power(P,n)\n",
      "print \"Stationary distribution from second method:\", np.dot(v,Pn)\n",
      "\n",
      "\n",
      "### Using left eigenvectors with eigenvalue 1\n",
      "w, v = np.linalg.eig(P.T)\n",
      "v = v[:,0]/sum(v[:,0]) #Eigen value was 1 for the first vector\n",
      "print \"Stationary distribution from third method:\", v.real\n",
      "\n",
      "\n",
      "### Solving system of linear equations\n",
      "A = np.array([[P[1,1]-P[0,1]-1,P[2,1]-P[0,1]], [P[1,2]-P[0,2], P[2,2]-P[0,2]-1]])\n",
      "#a = np.vstack([a, [1,1,1]])\n",
      "b = np.array([-P[0,1], -P[0,2]])\n",
      "w2, w3 = np.linalg.solve(A,b)\n",
      "w1 = 1-w2-w3\n",
      "w = np.array([round(w1,4),round(w2,4),round(w3,4)])\n",
      "print \"Stationary distribution from fourth method:\", w"
     ],
     "language": "python",
     "metadata": {},
     "outputs": [
      {
       "output_type": "stream",
       "stream": "stdout",
       "text": [
        "Stationary distribution from first method: [ 0.3986  0.2606  0.3408]\n",
        "Stationary distribution from second method: [ 0.3986  0.2606  0.3408]\n",
        "Stationary distribution from third method: [ 0.3986  0.2606  0.3408]\n",
        "Stationary distribution from fourth method: [ 0.3986  0.2606  0.3408]\n"
       ]
      }
     ],
     "prompt_number": 2
    }
   ],
   "metadata": {}
  }
 ]
}