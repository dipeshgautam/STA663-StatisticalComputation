{
 "metadata": {
  "name": "",
  "signature": "sha256:b2cf3fb5d6b6134a6256029aef5adcf38ebc641698f946d0078851953818bc99"
 },
 "nbformat": 3,
 "nbformat_minor": 0,
 "worksheets": [
  {
   "cells": [
    {
     "cell_type": "markdown",
     "metadata": {},
     "source": [
      "Instructions\n",
      "----\n",
      "\n",
      "This is a \"closed book\" examination - in particular, you are not to use any resources outside of this notebook (except possibly pen and paper). You may consult help from within the notebook using ? but not any online references. You should turn wireless off or set your laptop in \"Airplane\" mode prior to taking the exam. \n",
      "\n",
      "You have 1 hour and 45 minutes to complete the exam."
     ]
    },
    {
     "cell_type": "code",
     "collapsed": false,
     "input": [
      "import os\n",
      "import sys\n",
      "import glob\n",
      "import matplotlib.pyplot as plt\n",
      "import numpy as np\n",
      "import pandas as pd\n",
      "%matplotlib inline\n",
      "plt.style.use('ggplot')\n",
      "\n",
      "import scipy.linalg as la\n",
      "from sympy import init_printing \n",
      "init_printing()"
     ],
     "language": "python",
     "metadata": {},
     "outputs": []
    },
    {
     "cell_type": "code",
     "collapsed": false,
     "input": [
      "np.set_printoptions(formatter={'float': '{: 0.3f}'.format})"
     ],
     "language": "python",
     "metadata": {},
     "outputs": [],
     "prompt_number": 3
    },
    {
     "cell_type": "code",
     "collapsed": false,
     "input": [
      "%load_ext rpy2.ipython"
     ],
     "language": "python",
     "metadata": {},
     "outputs": [],
     "prompt_number": 4
    },
    {
     "cell_type": "markdown",
     "metadata": {},
     "source": [
      "**Question 1 (10 points)**. \n",
      "\n",
      "Euclid's algorithm for finding the greatest common divisor of two numbers is\n",
      "\n",
      "```python\n",
      "gcd(a, 0) = a\n",
      "gcd(a, b) = gcd(b, a modulo b)\n",
      "```\n",
      "\n",
      "1. Write a function to find the greatest common divisor in Python (4 poinst)\n",
      "2. What is the greatest common divisor of 17384 and 1928? (1 point)\n",
      "3. Write a function to calculate the least common multiple (4 points)\n",
      "4. What is the least common multiple of 17384 and 1928? (1 point)"
     ]
    },
    {
     "cell_type": "code",
     "collapsed": false,
     "input": [
      "def gcd(a,b):\n",
      "    if b==0:\n",
      "        return a\n",
      "    else:\n",
      "        return gcd(b, a%b)\n",
      "gcd(17384,1928)\n"
     ],
     "language": "python",
     "metadata": {},
     "outputs": [
      {
       "metadata": {},
       "output_type": "pyout",
       "prompt_number": 51,
       "text": [
        "8"
       ]
      }
     ],
     "prompt_number": 51
    },
    {
     "cell_type": "code",
     "collapsed": false,
     "input": [
      "1928/8*17384"
     ],
     "language": "python",
     "metadata": {},
     "outputs": [
      {
       "metadata": {},
       "output_type": "pyout",
       "prompt_number": 52,
       "text": [
        "4189544"
       ]
      }
     ],
     "prompt_number": 52
    },
    {
     "cell_type": "code",
     "collapsed": false,
     "input": [],
     "language": "python",
     "metadata": {},
     "outputs": [],
     "prompt_number": 3
    },
    {
     "cell_type": "code",
     "collapsed": false,
     "input": [],
     "language": "python",
     "metadata": {},
     "outputs": [],
     "prompt_number": 3
    },
    {
     "cell_type": "code",
     "collapsed": false,
     "input": [],
     "language": "python",
     "metadata": {},
     "outputs": [],
     "prompt_number": 3
    },
    {
     "cell_type": "markdown",
     "metadata": {},
     "source": [
      "**Question 2 (10 points)**. \n",
      "\n",
      "Consider the following matrix $A$ with dimensions (4,6), to be interpreted as 4 rows of the measurements of 6 features.\n",
      "```python\n",
      "np.array([[5, 5, 2, 6, 2, 0],\n",
      "          [8, 6, 7, 8, 9, 7],\n",
      "          [9, 5, 0, 4, 6, 8],\n",
      "          [8, 7, 9, 3, 6, 1]])\n",
      "```\n",
      "\n",
      "1. Add 1 to the first row, 2 to the second row, 3 to the third row and 4 to the fourth row using a vector `v = np.array([1,2,3,4])` and broadcasting. (2 points)\n",
      "2. Normalize A so that its row means are all 0 and call it A1. (2 points)\n",
      "3. What are the singular values of A1? (2 points)\n",
      "4. What are the eigenvalues of the covariance matrix of A1? (2 points)\n",
      "5. Find the least squares solution vector $x$ if $Ax = y$ where `y = np.array([1,2,3,4]).T` (2 points)"
     ]
    },
    {
     "cell_type": "code",
     "collapsed": false,
     "input": [
      "A = np.array([[5, 5, 2, 6, 2, 0],\n",
      "          [8, 6, 7, 8, 9, 7],\n",
      "          [9, 5, 0, 4, 6, 8],\n",
      "          [8, 7, 9, 3, 6, 1]])\n",
      "v = np.array([1,2,3,4])\n",
      "A+A+v[:,None]\n",
      "A1=A-np.mean(A, axis=1)[:,None]\n",
      "A1"
     ],
     "language": "python",
     "metadata": {},
     "outputs": [
      {
       "metadata": {},
       "output_type": "pyout",
       "prompt_number": 5,
       "text": [
        "array([[ 1.667,  1.667, -1.333,  2.667, -1.333, -3.333],\n",
        "       [ 0.500, -1.500, -0.500,  0.500,  1.500, -0.500],\n",
        "       [ 3.667, -0.333, -5.333, -1.333,  0.667,  2.667],\n",
        "       [ 2.333,  1.333,  3.333, -2.667,  0.333, -4.667]])"
       ]
      }
     ],
     "prompt_number": 5
    },
    {
     "cell_type": "code",
     "collapsed": false,
     "input": [
      "U,s, V = la.svd(A1)\n",
      "print s\n",
      "print np.real_if_close(la.eig(np.cov(A1))[0])\n"
     ],
     "language": "python",
     "metadata": {},
     "outputs": [
      {
       "output_type": "stream",
       "stream": "stdout",
       "text": [
        "[ 8.317  5.975  4.635  2.268]\n",
        "[ 13.833  7.141  4.297  1.029]\n"
       ]
      }
     ],
     "prompt_number": 9
    },
    {
     "cell_type": "code",
     "collapsed": false,
     "input": [
      "y = np.array([1,2,3,4]).T\n",
      "print la.lstsq(A, y)\n",
      "#np.dot(np.dot(la.inv(np.dot(A.T,A)),A.T),y)\n",
      "print np.dot(np.dot(la.inv(np.dot(A.T, A)), A.T), y)\n",
      "print la.pinv(A).dot(y)"
     ],
     "language": "python",
     "metadata": {},
     "outputs": [
      {
       "output_type": "stream",
       "stream": "stdout",
       "text": [
        "(array([ 0.360,  0.209,  0.057, -0.336,  0.028, -0.014]), array([], dtype=float64), 4, array([ 28.137,  8.316,  4.767,  3.926]))\n",
        "[ 0.391 -0.047 -0.184 -0.281  0.062 -0.099]\n",
        "[ 0.360  0.209  0.057 -0.336  0.028 -0.014]\n"
       ]
      }
     ],
     "prompt_number": 8
    },
    {
     "cell_type": "code",
     "collapsed": false,
     "input": [],
     "language": "python",
     "metadata": {},
     "outputs": [
      {
       "metadata": {},
       "output_type": "pyout",
       "prompt_number": 63,
       "text": [
        "2"
       ]
      }
     ],
     "prompt_number": 63
    },
    {
     "cell_type": "code",
     "collapsed": false,
     "input": [],
     "language": "python",
     "metadata": {},
     "outputs": [],
     "prompt_number": 3
    },
    {
     "cell_type": "markdown",
     "metadata": {},
     "source": [
      "**Question 3 (10 points)**.\n",
      "\n",
      "1. Prove that $e^{x^2 + y^2}$ is a convex function. (5 points)\n",
      "2. Using `scipy.optimize`, find the values of $x$ and $y$ that minimize $e^{x^2 + y^2}$ in the unconstrained case and in the presence of the constraint that $x + y = 3$. Use (1,1) as a starting guess (5 points)"
     ]
    },
    {
     "cell_type": "code",
     "collapsed": false,
     "input": [
      "from sympy import Symbol, exp, I, pi, N, expand, diff, symbols, Matrix, Function, hessian, solve\n",
      "x = symbols(\"x\")\n",
      "y = symbols(\"y\")\n",
      "\n",
      "f = exp(x**2+y**2)\n",
      "\n",
      "hessian(f, (x,y))\n",
      "solve()"
     ],
     "language": "python",
     "metadata": {},
     "outputs": [
      {
       "latex": [
        "$$\\left[\\begin{matrix}4 x^{2} e^{x^{2} + y^{2}} + 2 e^{x^{2} + y^{2}} & 4 x y e^{x^{2} + y^{2}}\\\\4 x y e^{x^{2} + y^{2}} & 4 y^{2} e^{x^{2} + y^{2}} + 2 e^{x^{2} + y^{2}}\\end{matrix}\\right]$$"
       ],
       "metadata": {},
       "output_type": "pyout",
       "prompt_number": 34,
       "text": [
        "\u23a1       2    2       2    2                2    2      \u23a4\n",
        "\u23a2   2  x  + y       x  + y                x  + y       \u23a5\n",
        "\u23a24\u22c5x \u22c5\u212f        + 2\u22c5\u212f               4\u22c5x\u22c5y\u22c5\u212f             \u23a5\n",
        "\u23a2                                                      \u23a5\n",
        "\u23a2              2    2               2    2       2    2\u23a5\n",
        "\u23a2             x  + y            2  x  + y       x  + y \u23a5\n",
        "\u23a3      4\u22c5x\u22c5y\u22c5\u212f               4\u22c5y \u22c5\u212f        + 2\u22c5\u212f       \u23a6"
       ]
      }
     ],
     "prompt_number": 34
    },
    {
     "cell_type": "code",
     "collapsed": false,
     "input": [],
     "language": "python",
     "metadata": {},
     "outputs": [],
     "prompt_number": 30
    },
    {
     "cell_type": "code",
     "collapsed": false,
     "input": [
      "def f(x):\n",
      "   return np.exp(x[0]**2+x[1]**2)\n",
      "import scipy.optimize as opt\n",
      "opt.minimize(f,(1,1))\n",
      "f((1,1))"
     ],
     "language": "python",
     "metadata": {},
     "outputs": [
      {
       "latex": [
        "$$7.38905609893$$"
       ],
       "metadata": {},
       "output_type": "pyout",
       "png": "[encoded data removed]",
       "prompt_number": 100,
       "text": [
        "7.38905609893"
       ]
      }
     ],
     "prompt_number": 100
    },
    {
     "cell_type": "code",
     "collapsed": false,
     "input": [
      "cons = ({'type':'eq',\n",
      "         'fun': lambda x: np.array([x[0]+x[1]-3])})\n",
      "opt.minimize(f,(1,1), constraints = cons)"
     ],
     "language": "python",
     "metadata": {},
     "outputs": [
      {
       "metadata": {},
       "output_type": "pyout",
       "prompt_number": 101,
       "text": [
        "  status: 0\n",
        " success: True\n",
        "    njev: 7\n",
        "    nfev: 34\n",
        "     fun: 90.017131300521896\n",
        "       x: array([ 1.500,  1.500])\n",
        " message: 'Optimization terminated successfully.'\n",
        "     jac: array([ 270.051,  270.051,  0.000])\n",
        "     nit: 7"
       ]
      }
     ],
     "prompt_number": 101
    },
    {
     "cell_type": "markdown",
     "metadata": {},
     "source": [
      "**Question 4 (10 points)**.\n",
      "\n",
      "A milkmaid is at point A and needs to get to point B. However, she also needs to fill a pail of water from the river en route from A to B. The equation of the river's path is shown in the figure below. What is the minimum distance she has to travel to do this?\n",
      "\n",
      "1. Solve using `scipy.optimize` and constrained minimization.\n",
      "2. Solve without using `scipy.optimize`. Hint: Use Lagrange \n",
      "\n",
      "![Milkmaid problem](milkmaid.png)"
     ]
    },
    {
     "cell_type": "code",
     "collapsed": false,
     "input": [
      "def dist(x):\n",
      "    return ((2-x[0])**2+(8-x[1])**2)**(0.5) + ((8-x[0])**2+(4-x[1])**2)**(0.5)\n",
      "\n",
      "import scipy.optimize as opt\n",
      "cons = ({'type':'eq',\n",
      "         'fun': lambda x: np.array([-x[1]+ 10/(1+x[0])])})\n",
      "min = opt.minimize(dist, (1,1), constraints = cons)\n",
      "min"
     ],
     "language": "python",
     "metadata": {},
     "outputs": [
      {
       "metadata": {},
       "output_type": "pyout",
       "prompt_number": 39,
       "text": [
        "  status: 0\n",
        " success: True\n",
        "    njev: 15\n",
        "    nfev: 66\n",
        "     fun: 9.9633983148160556\n",
        "       x: array([ 0.53232877,  6.52601464])\n",
        " message: 'Optimization terminated successfully.'\n",
        "     jac: array([-1.65286136, -0.38819802,  0.        ])\n",
        "     nit: 15"
       ]
      }
     ],
     "prompt_number": 39
    },
    {
     "cell_type": "code",
     "collapsed": false,
     "input": [
      "x,y = symbols('x y')\n",
      "f = symbols('f', cls= Function)\n",
      "g = symbols('g', cls= Function)\n",
      "f = ((2-x)**2+(8-y)**2)**(0.5) + ((8-x)**2+(4-y)**2)**(0.5)\n",
      "g = y - 10/(1+x)\n",
      "gradf = Matrix([diff(f,x), diff(f,y)])\n",
      "gradg = Matrix([diff(g,x), diff(g,y)])\n",
      "gradg, gradf"
     ],
     "language": "python",
     "metadata": {},
     "outputs": [
      {
       "latex": [
        "$$\\begin{pmatrix}\\left[\\begin{matrix}\\frac{10}{\\left(x + 1\\right)^{2}}\\\\1\\end{matrix}\\right], & \\left[\\begin{matrix}\\frac{1.0 x - 8.0}{\\left(\\left(- x + 8\\right)^{2} + \\left(- y + 4\\right)^{2}\\right)^{0.5}} + \\frac{1.0 x - 2.0}{\\left(\\left(- x + 2\\right)^{2} + \\left(- y + 8\\right)^{2}\\right)^{0.5}}\\\\\\frac{1.0 y - 8.0}{\\left(\\left(- x + 2\\right)^{2} + \\left(- y + 8\\right)^{2}\\right)^{0.5}} + \\frac{1.0 y - 4.0}{\\left(\\left(- x + 8\\right)^{2} + \\left(- y + 4\\right)^{2}\\right)^{0.5}}\\end{matrix}\\right]\\end{pmatrix}$$"
       ],
       "metadata": {},
       "output_type": "pyout",
       "prompt_number": 37,
       "text": [
        "\u239b            \u23a1                                     -0.5                       \n",
        "\u239c\u23a1   10   \u23a4  \u23a2              \u239b        2           2\u239e                     \u239b     \n",
        "\u239c\u23a2\u2500\u2500\u2500\u2500\u2500\u2500\u2500\u2500\u23a5, \u23a2(1.0\u22c5x - 8.0)\u22c5\u239d(-x + 8)  + (-y + 4) \u23a0     + (1.0\u22c5x - 2.0)\u22c5\u239d(-x +\n",
        "\u239c\u23a2       2\u23a5  \u23a2                                                                \n",
        "\u239c\u23a2(x + 1) \u23a5  \u23a2                                     -0.5                       \n",
        "\u239c\u23a2        \u23a5  \u23a2              \u239b        2           2\u239e                     \u239b     \n",
        "\u239d\u23a3   1    \u23a6  \u23a3(1.0\u22c5y - 8.0)\u22c5\u239d(-x + 2)  + (-y + 8) \u23a0     + (1.0\u22c5y - 4.0)\u22c5\u239d(-x +\n",
        "\n",
        "                 -0.5\u23a4\u239e\n",
        "   2           2\u239e    \u23a5\u239f\n",
        " 2)  + (-y + 8) \u23a0    \u23a5\u239f\n",
        "                     \u23a5\u239f\n",
        "                 -0.5\u23a5\u239f\n",
        "   2           2\u239e    \u23a5\u239f\n",
        " 8)  + (-y + 4) \u23a0    \u23a6\u23a0"
       ]
      }
     ],
     "prompt_number": 37
    },
    {
     "cell_type": "code",
     "collapsed": false,
     "input": [
      "def y(x):\n",
      "    return 10/(1+x)\n",
      "y(.023)\n",
      "x =[ 0.023,  9.777]\n",
      "4**(1./2)\n",
      "gradf[0]"
     ],
     "language": "python",
     "metadata": {},
     "outputs": []
    },
    {
     "cell_type": "markdown",
     "metadata": {},
     "source": [
      "**Question 5 (10 points)**. \n",
      "\n",
      "Find the minimum of the following quadratic function on $\\mathbb{R}^4$ \n",
      "\n",
      "$$f(x) = x^TAx +b^Tx +c$$\n",
      "where\n",
      "$$A = \\left(\\begin{matrix}13&5&0&0\\\\5&7&0&0\\\\0&0&20&-7\\\\0&0&-7&12\\end{matrix}\\right), b = \\left(\\begin{matrix}1\\\\1\\\\1\\\\1\\end{matrix}\\right) \\textrm {and } c = 2$$\n",
      "\n",
      "and $x$ is a column vector.\n",
      "\n",
      "a. Using scipy.optimize (4 points)\n",
      "\n",
      "b. Using a matrix decomposition method (library functions - no need to code your own).  Note: for full credit you should exploit matrix structure. (4 points)\n",
      "\n",
      "c. Find the minimum under the constraint $||x||^2 = 1$ (i.e. on the unit sphere in $\\mathbb{R}^4$). (2 points)\n",
      "\n",
      "**Note: Do not be overly concerned if your values for $x$ at the minimum do not match exactly **\n"
     ]
    },
    {
     "cell_type": "code",
     "collapsed": false,
     "input": [
      "A = np.array([[13,5,0,0],\n",
      "              [5,7,0,0],\n",
      "              [0,0,20,-7],\n",
      "              [0,0,-7,12]])\n",
      "b = np.array([1,1,1,1]).reshape(4,1)\n",
      "\n",
      "U, s, V = np.linalg.svd(2*A)\n",
      "x = np.dot(np.dot((V.T).dot(np.diag(s**(-1))), U.T),-b)\n",
      "x"
     ],
     "language": "python",
     "metadata": {},
     "outputs": [
      {
       "metadata": {},
       "output_type": "pyout",
       "prompt_number": 18,
       "text": [
        "array([[-0.01515152],\n",
        "       [-0.06060606],\n",
        "       [-0.04973822],\n",
        "       [-0.07068063]])"
       ]
      }
     ],
     "prompt_number": 18
    },
    {
     "cell_type": "code",
     "collapsed": false,
     "input": [
      "import scipy.optimize as opt\n",
      "def f(x):\n",
      "    A = np.array([[13,5,0,0],\n",
      "              [5,7,0,0],\n",
      "              [0,0,20,-7],\n",
      "              [0,0,-7,12]])\n",
      "    b = np.array([1,1,1,1]).reshape(4,1)\n",
      "    c = 2\n",
      "    return x.T.dot(A.dot(x)) + b.T.dot(x) + c\n",
      "cons = ({'type':'eq',\n",
      "         'fun': lambda x: np.array([np.linalg.norm(x)-1])})\n",
      "opt.minimize(f, [0,0,0,0])"
     ],
     "language": "python",
     "metadata": {},
     "outputs": [
      {
       "metadata": {},
       "output_type": "pyout",
       "prompt_number": 21,
       "text": [
        "   status: 0\n",
        "  success: True\n",
        "     njev: 9\n",
        "     nfev: 54\n",
        " hess_inv: array([[ 0.22125618, -0.40351257,  0.07392348,  0.07970686],\n",
        "       [-0.40351257,  0.89317867, -0.16067041, -0.17324041],\n",
        "       [ 0.07392348, -0.16067041,  0.0638978 ,  0.05335018],\n",
        "       [ 0.07970686, -0.17324041,  0.05335018,  0.09012181]])\n",
        "      fun: 1.901911788037445\n",
        "        x: array([-0.01515152, -0.06060607, -0.04973823, -0.07068064])\n",
        "  message: 'Optimization terminated successfully.'\n",
        "      jac: array([ -1.49011612e-08,  -5.96046448e-08,   8.94069672e-08,\n",
        "         7.45058060e-08])"
       ]
      }
     ],
     "prompt_number": 21
    },
    {
     "cell_type": "code",
     "collapsed": false,
     "input": [
      "opt.minimize(f, [0,0,0,0], constraints = cons)"
     ],
     "language": "python",
     "metadata": {},
     "outputs": [
      {
       "metadata": {},
       "output_type": "pyout",
       "prompt_number": 20,
       "text": [
        "  status: 0\n",
        " success: True\n",
        "    njev: 30\n",
        "    nfev: 231\n",
        "     fun: array([ 6.37629184])\n",
        "       x: array([-0.5306705 ,  0.83066275, -0.09135849, -0.14156921])\n",
        " message: 'Optimization terminated successfully.'\n",
        "     jac: array([-4.49080545,  7.32257354, -0.67237055, -1.11864203,  0.        ])\n",
        "     nit: 30"
       ]
      }
     ],
     "prompt_number": 20
    },
    {
     "cell_type": "markdown",
     "metadata": {},
     "source": [
      "**Question 6 (10 points)**.\n",
      "\n",
      "Given the set of vectors\n",
      "\n",
      "```\n",
      "v1 = np.array([1,2,3])\n",
      "v2 = np.array([2,4,7])\n",
      "v3 = np.array([1,0,1])\n",
      "```\n",
      "\n",
      "1. Calculate the pairwise Euclidean distance matrix using nested for loops. (2 points)\n",
      "2. Calculate the pairwise Euclidean distance matrix using numpy broadcasting. (3 points)\n",
      "3. Find an orthogonal basis for the space spanned by these vectors without using any functions from `numpy.linag` or `scipy.linalg` (5 points)"
     ]
    },
    {
     "cell_type": "code",
     "collapsed": false,
     "input": [
      "v1 = np.array([1,2,3])\n",
      "v2 = np.array([2,4,7])\n",
      "v3 = np.array([1,0,1])\n",
      "A = np.vstack([v1,v2,v3])\n",
      "A"
     ],
     "language": "python",
     "metadata": {},
     "outputs": [
      {
       "metadata": {},
       "output_type": "pyout",
       "prompt_number": 19,
       "text": [
        "array([[1, 2, 3],\n",
        "       [2, 4, 7],\n",
        "       [1, 0, 1]])"
       ]
      }
     ],
     "prompt_number": 19
    },
    {
     "cell_type": "code",
     "collapsed": false,
     "input": [
      "def dist(x,y):\n",
      "    return np.sum((x-y)**2, -1)**(0.5)\n",
      "\n",
      "dist(A[None,:], A[:,None])"
     ],
     "language": "python",
     "metadata": {},
     "outputs": [
      {
       "metadata": {},
       "output_type": "pyout",
       "prompt_number": 27,
       "text": [
        "array([[ 0.        ,  4.58257569,  2.82842712],\n",
        "       [ 4.58257569,  0.        ,  7.28010989],\n",
        "       [ 2.82842712,  7.28010989,  0.        ]])"
       ]
      }
     ],
     "prompt_number": 27
    },
    {
     "cell_type": "code",
     "collapsed": false,
     "input": [
      "np.linalg.matrix_rank(A)"
     ],
     "language": "python",
     "metadata": {},
     "outputs": [
      {
       "latex": [
        "$$3$$"
       ],
       "metadata": {},
       "output_type": "pyout",
       "png": "[encoded data removed]",
       "prompt_number": 22,
       "text": [
        "3"
       ]
      }
     ],
     "prompt_number": 22
    },
    {
     "cell_type": "code",
     "collapsed": false,
     "input": [
      "a = "
     ],
     "language": "python",
     "metadata": {},
     "outputs": []
    }
   ],
   "metadata": {}
  }
 ]
}