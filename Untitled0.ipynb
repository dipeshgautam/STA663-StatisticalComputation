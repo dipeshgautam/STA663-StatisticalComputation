{
 "metadata": {
  "name": "",
  "signature": "sha256:a25e128c10afb38b231028c96c7be1be2b0b906d337794d65625a186555c9832"
 },
 "nbformat": 3,
 "nbformat_minor": 0,
 "worksheets": [
  {
   "cells": [
    {
     "cell_type": "code",
     "collapsed": false,
     "input": [
      "! git add Lecture/*.ipynb"
     ],
     "language": "python",
     "metadata": {},
     "outputs": [],
     "prompt_number": 4
    },
    {
     "cell_type": "code",
     "collapsed": false,
     "input": [
      "! git add IntroductionToPython.ipynb"
     ],
     "language": "python",
     "metadata": {},
     "outputs": [
      {
       "output_type": "stream",
       "stream": "stderr",
       "text": [
        "warning: LF will be replaced by CRLF in IntroductionToPython.ipynb.\n",
        "The file will have its original line endings in your working directory.\n"
       ]
      }
     ],
     "prompt_number": 2
    },
    {
     "cell_type": "code",
     "collapsed": false,
     "input": [
      "! git commit -m \"add the first lecture\""
     ],
     "language": "python",
     "metadata": {},
     "outputs": [
      {
       "output_type": "stream",
       "stream": "stdout",
       "text": [
        "[master 8f9b149] add the first lecture\n",
        " 1 file changed, 1511 insertions(+)\n",
        " create mode 100644 IntroductionToPython.ipynb\n"
       ]
      },
      {
       "output_type": "stream",
       "stream": "stderr",
       "text": [
        "warning: LF will be replaced by CRLF in IntroductionToPython.ipynb.\n",
        "The file will have its original line endings in your working directory.\n"
       ]
      }
     ],
     "prompt_number": 3
    },
    {
     "cell_type": "code",
     "collapsed": false,
     "input": [
      "! git push"
     ],
     "language": "python",
     "metadata": {},
     "outputs": [
      {
       "output_type": "stream",
       "stream": "stderr",
       "text": [
        "To git@github.com:dipeshgautam/sta-663-dipesh-gautam.git\n",
        "   cf4e12e..8f9b149  master -> master\n"
       ]
      }
     ],
     "prompt_number": 4
    },
    {
     "cell_type": "code",
     "collapsed": false,
     "input": [
      "! git commit -m \"modified lab and lecture\""
     ],
     "language": "python",
     "metadata": {},
     "outputs": [
      {
       "output_type": "stream",
       "stream": "stdout",
       "text": [
        "[master da54eff] modified lab and lecture\n",
        " 3 files changed, 1871 insertions(+), 15 deletions(-)\n",
        " create mode 100644 Lab/.ipynb_checkpoints/Exercises01-checkpoint.ipynb\n",
        " create mode 100644 Lecture/.ipynb_checkpoints/IntroductionToPython-checkpoint.ipynb\n"
       ]
      }
     ],
     "prompt_number": 6
    },
    {
     "cell_type": "code",
     "collapsed": false,
     "input": [
      "! git add Lab/Exercises01.ipynb Lecture/IntroductionToPython.ipynb"
     ],
     "language": "python",
     "metadata": {},
     "outputs": [
      {
       "output_type": "stream",
       "stream": "stderr",
       "text": [
        "warning: LF will be replaced by CRLF in Lab/Exercises01.ipynb.\n",
        "The file will have its original line endings in your working directory.\n",
        "warning: LF will be replaced by CRLF in Lecture/IntroductionToPython.ipynb.\n",
        "The file will have its original line endings in your working directory.\n"
       ]
      }
     ],
     "prompt_number": 7
    },
    {
     "cell_type": "code",
     "collapsed": false,
     "input": [
      "! git status"
     ],
     "language": "python",
     "metadata": {},
     "outputs": [
      {
       "output_type": "stream",
       "stream": "stdout",
       "text": [
        "On branch master\n",
        "Your branch is up-to-date with 'origin/master'.\n",
        "\n",
        "Changes to be committed:\n",
        "  (use \"git reset HEAD <file>...\" to unstage)\n",
        "\n",
        "\tnew file:   Lab/Exercises01.ipynb\n",
        "\trenamed:    IntroductionToPython.ipynb -> Lecture/IntroductionToPython.ipynb\n",
        "\n",
        "Untracked files:\n",
        "  (use \"git add <file>...\" to include in what will be committed)\n",
        "\n",
        "\t.ipynb_checkpoints/\n",
        "\tUntitled0.ipynb\n",
        "\n"
       ]
      }
     ],
     "prompt_number": 10
    },
    {
     "cell_type": "code",
     "collapsed": false,
     "input": [
      "! git rm IntroductionToPython.ipynb"
     ],
     "language": "python",
     "metadata": {},
     "outputs": [
      {
       "output_type": "stream",
       "stream": "stdout",
       "text": [
        "rm 'IntroductionToPython.ipynb'\n"
       ]
      }
     ],
     "prompt_number": 9
    },
    {
     "cell_type": "code",
     "collapsed": false,
     "input": [
      "! git push"
     ],
     "language": "python",
     "metadata": {},
     "outputs": [
      {
       "output_type": "stream",
       "stream": "stderr",
       "text": [
        "To git@github.com:dipeshgautam/sta-663-dipesh-gautam.git\n",
        "   e9d856e..da54eff  master -> master\n"
       ]
      }
     ],
     "prompt_number": 7
    },
    {
     "cell_type": "code",
     "collapsed": false,
     "input": [
      "! git push"
     ],
     "language": "python",
     "metadata": {},
     "outputs": [
      {
       "output_type": "stream",
       "stream": "stderr",
       "text": [
        "To git@github.com:dipeshgautam/sta-663-dipesh-gautam.git\n",
        "   8f9b149..e9d856e  master -> master\n"
       ]
      }
     ],
     "prompt_number": 12
    },
    {
     "cell_type": "code",
     "collapsed": false,
     "input": [],
     "language": "python",
     "metadata": {},
     "outputs": []
    }
   ],
   "metadata": {}
  }
 ]
}