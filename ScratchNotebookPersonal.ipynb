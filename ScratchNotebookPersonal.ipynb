{
 "metadata": {
  "name": "",
  "signature": "sha256:73d63d2f06e45195f5c9250cd52f1c41fc7a260185056418eb5d99a6353ebce1"
 },
 "nbformat": 3,
 "nbformat_minor": 0,
 "worksheets": [
  {
   "cells": [
    {
     "cell_type": "code",
     "collapsed": false,
     "input": [
      "! git add Exercises01.ipynb"
     ],
     "language": "python",
     "metadata": {},
     "outputs": [],
     "prompt_number": 5
    },
    {
     "cell_type": "code",
     "collapsed": false,
     "input": [
      "! git commit -m \"test\""
     ],
     "language": "python",
     "metadata": {},
     "outputs": [
      {
       "output_type": "stream",
       "stream": "stdout",
       "text": [
        "[master 6838581] test\r\n",
        " 1 file changed, 234 insertions(+)\r\n",
        " create mode 100644 Exercises01.ipynb\r\n"
       ]
      }
     ],
     "prompt_number": 6
    },
    {
     "cell_type": "code",
     "collapsed": false,
     "input": [
      "! git push"
     ],
     "language": "python",
     "metadata": {},
     "outputs": [
      {
       "output_type": "stream",
       "stream": "stdout",
       "text": [
        "Username for 'https://github.com': "
       ]
      }
     ]
    },
    {
     "cell_type": "code",
     "collapsed": false,
     "input": [
      "!dipeshgautam"
     ],
     "language": "python",
     "metadata": {},
     "outputs": []
    },
    {
     "cell_type": "code",
     "collapsed": false,
     "input": [
      "! git config --global user.name \"dipeshgautam\"\n",
      "! git config --global user.email \"digtm123@gmail.com\"\n",
      "! git config --global color.ui true\n",
      "! git config --global core.editor nano\n",
      "! git config --global push.default matching"
     ],
     "language": "python",
     "metadata": {},
     "outputs": [],
     "prompt_number": 1
    },
    {
     "cell_type": "code",
     "collapsed": false,
     "input": [
      "! git push"
     ],
     "language": "python",
     "metadata": {},
     "outputs": []
    },
    {
     "cell_type": "code",
     "collapsed": false,
     "input": [
      "! git config --global user.name \"dipeshgautam\""
     ],
     "language": "python",
     "metadata": {},
     "outputs": [],
     "prompt_number": 1
    },
    {
     "cell_type": "code",
     "collapsed": false,
     "input": [
      "! git config --global user.email \"digtm123@gmail.com\""
     ],
     "language": "python",
     "metadata": {},
     "outputs": [],
     "prompt_number": 2
    },
    {
     "cell_type": "code",
     "collapsed": false,
     "input": [
      "! git config --global color.ui true\n"
     ],
     "language": "python",
     "metadata": {},
     "outputs": [],
     "prompt_number": 3
    },
    {
     "cell_type": "code",
     "collapsed": false,
     "input": [
      "! git config --global core.editor nano\n"
     ],
     "language": "python",
     "metadata": {},
     "outputs": [],
     "prompt_number": 4
    },
    {
     "cell_type": "code",
     "collapsed": false,
     "input": [
      "! git config --global push.default matching"
     ],
     "language": "python",
     "metadata": {},
     "outputs": [],
     "prompt_number": 5
    },
    {
     "cell_type": "code",
     "collapsed": false,
     "input": [
      "! git status"
     ],
     "language": "python",
     "metadata": {},
     "outputs": [
      {
       "output_type": "stream",
       "stream": "stdout",
       "text": [
        "On branch master\r\n",
        "Your branch is ahead of 'origin/master' by 1 commit.\r\n",
        "  (use \"git push\" to publish your local commits)\r\n",
        "\r\n",
        "Untracked files:\r\n",
        "  (use \"git add <file>...\" to include in what will be committed)\r\n",
        "\r\n",
        "\t\u001b[31m.ipynb_checkpoints/\u001b[m\r\n",
        "\t\u001b[31mScratchNotebookPersonal.ipynb\u001b[m\r\n",
        "\r\n",
        "nothing added to commit but untracked files present (use \"git add\" to track)\r\n"
       ]
      }
     ],
     "prompt_number": 6
    },
    {
     "cell_type": "code",
     "collapsed": false,
     "input": [
      "! git push"
     ],
     "language": "python",
     "metadata": {},
     "outputs": [
      {
       "output_type": "stream",
       "stream": "stdout",
       "text": [
        "Username for 'https://github.com': "
       ]
      }
     ]
    },
    {
     "cell_type": "code",
     "collapsed": false,
     "input": [
      "! git pull"
     ],
     "language": "python",
     "metadata": {},
     "outputs": [
      {
       "output_type": "stream",
       "stream": "stdout",
       "text": [
        "You have not concluded your merge (MERGE_HEAD exists).\r\n",
        "Please, commit your changes before you can merge.\r\n"
       ]
      }
     ],
     "prompt_number": 1
    },
    {
     "cell_type": "code",
     "collapsed": false,
     "input": [
      "! git pull"
     ],
     "language": "python",
     "metadata": {},
     "outputs": []
    },
    {
     "cell_type": "code",
     "collapsed": false,
     "input": [
      "!git status"
     ],
     "language": "python",
     "metadata": {},
     "outputs": [
      {
       "output_type": "stream",
       "stream": "stdout",
       "text": [
        "On branch master\r\n",
        "Your branch and 'origin/master' have diverged,\r\n",
        "and have 1 and 1 different commit each, respectively.\r\n",
        "  (use \"git pull\" to merge the remote branch into yours)\r\n",
        "\r\n",
        "All conflicts fixed but you are still merging.\r\n",
        "  (use \"git commit\" to conclude merge)\r\n",
        "\r\n",
        "Changes to be committed:\r\n",
        "\r\n",
        "\t\u001b[32mmodified:   Lecture/IntroductionToPython.ipynb\u001b[m\r\n",
        "\r\n",
        "Changes not staged for commit:\r\n",
        "  (use \"git add/rm <file>...\" to update what will be committed)\r\n",
        "  (use \"git checkout -- <file>...\" to discard changes in working directory)\r\n",
        "\r\n",
        "\t\u001b[31mdeleted:    Lecture/.ipynb_checkpoints/IntroductionToPython-checkpoint.ipynb\u001b[m\r\n",
        "\t\u001b[31mdeleted:    Lecture/IntroductionToPython.ipynb\u001b[m\r\n",
        "\r\n",
        "Untracked files:\r\n",
        "  (use \"git add <file>...\" to include in what will be committed)\r\n",
        "\r\n",
        "\t\u001b[31m.ipynb_checkpoints/\u001b[m\r\n",
        "\t\u001b[31mScratchNotebookPersonal.ipynb\u001b[m\r\n",
        "\r\n"
       ]
      }
     ],
     "prompt_number": 2
    },
    {
     "cell_type": "code",
     "collapsed": false,
     "input": [
      "! git rm Lecture/IntroductionToPython.ipynb"
     ],
     "language": "python",
     "metadata": {},
     "outputs": [
      {
       "output_type": "stream",
       "stream": "stdout",
       "text": [
        "rm 'Lecture/IntroductionToPython.ipynb'\r\n"
       ]
      }
     ],
     "prompt_number": 5
    },
    {
     "cell_type": "code",
     "collapsed": false,
     "input": [
      "! git status"
     ],
     "language": "python",
     "metadata": {},
     "outputs": [
      {
       "output_type": "stream",
       "stream": "stdout",
       "text": [
        "On branch master\r\n",
        "Your branch and 'origin/master' have diverged,\r\n",
        "and have 1 and 1 different commit each, respectively.\r\n",
        "  (use \"git pull\" to merge the remote branch into yours)\r\n",
        "\r\n",
        "All conflicts fixed but you are still merging.\r\n",
        "  (use \"git commit\" to conclude merge)\r\n",
        "\r\n",
        "Changes to be committed:\r\n",
        "\r\n",
        "\t\u001b[32mdeleted:    Lecture/IntroductionToPython.ipynb\u001b[m\r\n",
        "\r\n",
        "Changes not staged for commit:\r\n",
        "  (use \"git add/rm <file>...\" to update what will be committed)\r\n",
        "  (use \"git checkout -- <file>...\" to discard changes in working directory)\r\n",
        "\r\n",
        "\t\u001b[31mdeleted:    Lecture/.ipynb_checkpoints/IntroductionToPython-checkpoint.ipynb\u001b[m\r\n",
        "\r\n",
        "Untracked files:\r\n",
        "  (use \"git add <file>...\" to include in what will be committed)\r\n",
        "\r\n",
        "\t\u001b[31m.ipynb_checkpoints/\u001b[m\r\n",
        "\t\u001b[31mScratchNotebookPersonal.ipynb\u001b[m\r\n",
        "\r\n"
       ]
      }
     ],
     "prompt_number": 6
    },
    {
     "cell_type": "code",
     "collapsed": false,
     "input": [
      "! git rm Lecture/.ipynb_checkpoints/IntroductionToPython-checkpoint.ipynb"
     ],
     "language": "python",
     "metadata": {},
     "outputs": [
      {
       "output_type": "stream",
       "stream": "stdout",
       "text": [
        "rm 'Lecture/.ipynb_checkpoints/IntroductionToPython-checkpoint.ipynb'\r\n"
       ]
      }
     ],
     "prompt_number": 7
    },
    {
     "cell_type": "code",
     "collapsed": false,
     "input": [
      "! git status"
     ],
     "language": "python",
     "metadata": {},
     "outputs": [
      {
       "output_type": "stream",
       "stream": "stdout",
       "text": [
        "On branch master\r\n",
        "Your branch and 'origin/master' have diverged,\r\n",
        "and have 1 and 1 different commit each, respectively.\r\n",
        "  (use \"git pull\" to merge the remote branch into yours)\r\n",
        "\r\n",
        "All conflicts fixed but you are still merging.\r\n",
        "  (use \"git commit\" to conclude merge)\r\n",
        "\r\n",
        "Changes to be committed:\r\n",
        "\r\n",
        "\t\u001b[32mdeleted:    Lecture/.ipynb_checkpoints/IntroductionToPython-checkpoint.ipynb\u001b[m\r\n",
        "\t\u001b[32mdeleted:    Lecture/IntroductionToPython.ipynb\u001b[m\r\n",
        "\r\n",
        "Untracked files:\r\n",
        "  (use \"git add <file>...\" to include in what will be committed)\r\n",
        "\r\n",
        "\t\u001b[31m.ipynb_checkpoints/\u001b[m\r\n",
        "\t\u001b[31mScratchNotebookPersonal.ipynb\u001b[m\r\n",
        "\r\n"
       ]
      }
     ],
     "prompt_number": 8
    },
    {
     "cell_type": "code",
     "collapsed": false,
     "input": [
      "! git commit -m \"merge issue\""
     ],
     "language": "python",
     "metadata": {},
     "outputs": [
      {
       "output_type": "stream",
       "stream": "stdout",
       "text": [
        "[master 6b214fd] merge issue\r\n"
       ]
      }
     ],
     "prompt_number": 9
    },
    {
     "cell_type": "code",
     "collapsed": false,
     "input": [
      "! git status"
     ],
     "language": "python",
     "metadata": {},
     "outputs": [
      {
       "output_type": "stream",
       "stream": "stdout",
       "text": [
        "On branch master\r\n",
        "Your branch is up-to-date with 'origin/master'.\r\n",
        "\r\n",
        "Changes not staged for commit:\r\n",
        "  (use \"git add <file>...\" to update what will be committed)\r\n",
        "  (use \"git checkout -- <file>...\" to discard changes in working directory)\r\n",
        "\r\n",
        "\t\u001b[31mmodified:   Exercises01.ipynb\u001b[m\r\n",
        "\t\u001b[31mmodified:   Lab/.ipynb_checkpoints/Exercises01-checkpoint.ipynb\u001b[m\r\n",
        "\r\n",
        "Untracked files:\r\n",
        "  (use \"git add <file>...\" to include in what will be committed)\r\n",
        "\r\n",
        "\t\u001b[31m.ipynb_checkpoints/\u001b[m\r\n",
        "\t\u001b[31mScratchNotebookPersonal.ipynb\u001b[m\r\n",
        "\r\n",
        "no changes added to commit (use \"git add\" and/or \"git commit -a\")\r\n"
       ]
      }
     ],
     "prompt_number": 1
    },
    {
     "cell_type": "code",
     "collapsed": false,
     "input": [
      "! git add Lab/Exercises01.ipynb"
     ],
     "language": "python",
     "metadata": {},
     "outputs": [],
     "prompt_number": 2
    },
    {
     "cell_type": "code",
     "collapsed": false,
     "input": [
      "! git commit -m \"added answers to some exercises\""
     ],
     "language": "python",
     "metadata": {},
     "outputs": [
      {
       "output_type": "stream",
       "stream": "stdout",
       "text": [
        "[master fca975d] added answers to some exercises\r\n",
        " 1 file changed, 68 insertions(+), 13 deletions(-)\r\n"
       ]
      }
     ],
     "prompt_number": 4
    },
    {
     "cell_type": "code",
     "collapsed": false,
     "input": [
      "! git push"
     ],
     "language": "python",
     "metadata": {},
     "outputs": [
      {
       "output_type": "stream",
       "stream": "stdout",
       "text": [
        "Username for 'https://github.com': "
       ]
      }
     ]
    },
    {
     "cell_type": "code",
     "collapsed": false,
     "input": [
      "! git add Exercises01.ipynb"
     ],
     "language": "python",
     "metadata": {},
     "outputs": [],
     "prompt_number": 2
    },
    {
     "cell_type": "code",
     "collapsed": false,
     "input": [
      "! git commit -m \"testing push from notebook\""
     ],
     "language": "python",
     "metadata": {},
     "outputs": [
      {
       "output_type": "stream",
       "stream": "stdout",
       "text": [
        "[master 8f053d1] testing push from notebook\r\n",
        " 1 file changed, 1 insertion(+), 1 deletion(-)\r\n"
       ]
      }
     ],
     "prompt_number": 3
    },
    {
     "cell_type": "code",
     "collapsed": false,
     "input": [
      "! git push"
     ],
     "language": "python",
     "metadata": {},
     "outputs": [
      {
       "output_type": "stream",
       "stream": "stdout",
       "text": [
        "Username for 'https://github.com': "
       ]
      }
     ]
    },
    {
     "cell_type": "code",
     "collapsed": false,
     "input": [],
     "language": "python",
     "metadata": {},
     "outputs": []
    }
   ],
   "metadata": {}
  }
 ]
}